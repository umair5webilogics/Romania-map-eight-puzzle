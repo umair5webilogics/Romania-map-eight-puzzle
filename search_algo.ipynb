{
 "cells": [
  {
   "cell_type": "code",
   "execution_count": 16,
   "metadata": {},
   "outputs": [],
   "source": [
    "dict_graph = {}\n",
    "\n",
    "\n",
    "# Read the data.txt file\n",
    "with open('romania_data.txt', 'r') as f:\n",
    "    for l in f:\n",
    "        city_a, city_b, p_cost = l.split()\n",
    "        if city_a not in dict_graph:\n",
    "            dict_graph[city_a] = {}\n",
    "        dict_graph[city_a][city_b] = int(p_cost)\n",
    "        if city_b not in dict_graph:\n",
    "            dict_graph[city_b] = {}\n",
    "        dict_graph[city_b][city_a] = int(p_cost)"
   ]
  },
  {
   "cell_type": "code",
   "execution_count": 17,
   "metadata": {},
   "outputs": [],
   "source": [
    "# Breadth First Search Method\n",
    "def BreadthFirstSearch(graph, src, dst):\n",
    "    q = [(src, [src], 0)]\n",
    "    visited = {src}\n",
    "    while q:\n",
    "        (node, path, cost) = q.pop(0)\n",
    "        for temp in graph[node].keys():\n",
    "            if temp == dst:\n",
    "                return path + [temp], cost + graph[node][temp]\n",
    "            else:\n",
    "                if temp not in visited:\n",
    "                    visited.add(temp)\n",
    "                    q.append((temp, path + [temp], cost + graph[node][temp]))"
   ]
  },
  {
   "cell_type": "code",
   "execution_count": 18,
   "metadata": {},
   "outputs": [
    {
     "name": "stdout",
     "output_type": "stream",
     "text": [
      "for BFS\n",
      "Traverse cites ['Arad', 'Sibiu', 'Fagaras', 'Bucharest']\n",
      "Total cost 450\n"
     ]
    }
   ],
   "source": [
    "# start state name\n",
    "src=\"Arad\"\n",
    "# distination state name\n",
    "dst=\"Bucharest\"\n",
    "while src not in dict_graph or dst not in dict_graph:\n",
    "    print (\"No such city name\")\n",
    "    src = raw_input(\"Enter the correct source (case_sensitive):\\n\")\n",
    "    dst = raw_input(\"Enter the correct destination(case_sensitive):\\n \")\n",
    "print (\"for BFS\")\n",
    "nodes,cost=BreadthFirstSearch(dict_graph, src, dst)\n",
    "print (f\"Traverse cites {nodes}\")\n",
    "print(f\"Total cost {cost}\")\n",
    "costs_list=[]\n",
    "nodes_list=[]\n",
    "costs_list.append(cost)\n",
    "nodes_list.append(len(nodes))"
   ]
  },
  {
   "cell_type": "code",
   "execution_count": 19,
   "metadata": {},
   "outputs": [],
   "source": [
    "# Depth First Search Method\n",
    "def DepthFirstSearch(graph, src, dst):\n",
    "    stack = [(src, [src], 0)]\n",
    "    visited = {src}\n",
    "    while stack:\n",
    "        (node, path, cost) = stack.pop()\n",
    "        for temp in graph[node].keys():\n",
    "            if temp == dst:\n",
    "                return path + [temp], cost + graph[node][temp]\n",
    "            else:\n",
    "                if temp not in visited:\n",
    "                    visited.add(temp)\n",
    "                    stack.append((temp, path + [temp], cost + graph[node][temp]))"
   ]
  },
  {
   "cell_type": "code",
   "execution_count": 20,
   "metadata": {},
   "outputs": [
    {
     "name": "stdout",
     "output_type": "stream",
     "text": [
      "for DFS\n",
      "Traverse cites ['Arad', 'Timisoara', 'Lugoj', 'Mehadia', 'Drobeta', 'Craiova', 'Piteshi', 'Bucharest']\n",
      "Total cost 733\n"
     ]
    }
   ],
   "source": [
    "# start state name\n",
    "src=\"Arad\"\n",
    "# distination state name\n",
    "dst=\"Bucharest\"\n",
    "while src not in dict_graph or dst not in dict_graph:\n",
    "    print (\"No such city name\")\n",
    "    src = raw_input(\"Enter the correct source (case_sensitive):\\n\")\n",
    "    dst = raw_input(\"Enter the correct destination(case_sensitive):\\n \")\n",
    "print (\"for DFS\")\n",
    "nodes,cost=DepthFirstSearch(dict_graph, src, dst)\n",
    "print (f\"Traverse cites {nodes}\")\n",
    "print(f\"Total cost {cost}\")\n",
    "costs_list.append(cost)\n",
    "nodes_list.append(len(nodes))\n"
   ]
  },
  {
   "cell_type": "code",
   "execution_count": 21,
   "metadata": {},
   "outputs": [],
   "source": [
    "# Iterative Deepening Search Method\n",
    "def IterativeDeepening(graph, src, dst):\n",
    "    level = 0\n",
    "    count = 0\n",
    "    stack = [(src, [src], 0)]\n",
    "    visited = {src}\n",
    "    while True:\n",
    "        level += 1\n",
    "        while stack:\n",
    "            if count <= level:\n",
    "                count = 0\n",
    "                (node, path, cost) = stack.pop()\n",
    "                for temp in graph[node].keys():\n",
    "                    if temp == dst:\n",
    "                        return path + [temp], cost + graph[node][temp]\n",
    "                    else:\n",
    "                        if temp not in visited:\n",
    "                            visited.add(temp)\n",
    "                            count += 1\n",
    "                            stack.append((temp, path + [temp], cost + graph[node][temp]))\n",
    "            else:\n",
    "                q = stack\n",
    "                visited_bfs = {src}\n",
    "                while q:\n",
    "                    (node, path, cost) = q.pop(0)\n",
    "                    for temp in graph[node].keys():\n",
    "                        if temp == dst:\n",
    "                            return path + [temp], cost + graph[node][temp]\n",
    "                        else:\n",
    "                            if temp not in visited_bfs:\n",
    "                                visited_bfs.add(temp)\n",
    "                                q.append((temp, path + [temp], cost + graph[node][temp]))\n",
    "                break"
   ]
  },
  {
   "cell_type": "code",
   "execution_count": 22,
   "metadata": {},
   "outputs": [
    {
     "name": "stdout",
     "output_type": "stream",
     "text": [
      "for Iterative deepning\n",
      "Traverse cites ['Arad', 'Sibiu', 'Fagaras', 'Bucharest']\n",
      "Total cost 450\n"
     ]
    }
   ],
   "source": [
    "# start state name\n",
    "src=\"Arad\"\n",
    "# distination start name\n",
    "dst=\"Bucharest\"\n",
    "while src not in dict_graph or dst not in dict_graph:\n",
    "    print (\"No such city name\")\n",
    "    src = raw_input(\"Enter the correct source (case_sensitive):\\n\")\n",
    "    dst = raw_input(\"Enter the correct destination(case_sensitive):\\n \")\n",
    "print (\"for Iterative deepning\")\n",
    "nodes,cost=IterativeDeepening(dict_graph, src, dst)\n",
    "print (f\"Traverse cites {nodes}\")\n",
    "print(f\"Total cost {cost}\")\n",
    "costs_list.append(cost)\n",
    "nodes_list.append(len(nodes))"
   ]
  },
  {
   "cell_type": "code",
   "execution_count": 23,
   "metadata": {},
   "outputs": [
    {
     "name": "stdout",
     "output_type": "stream",
     "text": [
      "14\n",
      "Arad Zerind 75 Timisoara 118 Sibiu 140\n",
      "Zerind Oradea 71 Arad 75\n",
      "Timisoara Arad 118 Lugoj 111\n",
      "Sibiu Arad 140 Oradea 151 Fagaras 99 RimnicuVilcea 80\n",
      "Oradea Zerind 71 Sibiu 151\n",
      "Lugoj Timisoara 111 Mehadia 70\n",
      "RimnicuVilcea Sibiu 80 Pitesti 97 Craiova 146\n",
      "Mehadia Lugoj 70 Dobreta 75\n",
      "Craiova Dobreta 120 RimnicuVilcea 146 Pitesti 138\n",
      "Pitesti RimnicuVilcea 97 Craiova 138 Bucharest 101\n",
      "Fagaras Sibiu 99 Bucharest 211\n",
      "Dobreta Mehadia 75 Craiova 120\n",
      "Bucharest Fagaras 211 Pitesti 101 Giurgiu 90\n",
      "Giurgiu Bucharest 90\n",
      "Path found: ['Arad', 'Sibiu', 'RimnicuVilcea', 'Pitesti', 'Bucharest'], Cost = 418\n"
     ]
    },
    {
     "data": {
      "text/plain": [
       "'\\nSample Map Input:\\n\\n14\\nArad Zerind 75 Timisoara 118 Sibiu 140\\nZerind Oradea 71 Arad 75\\nTimisoara Arad 118 Lugoj 111\\nSibiu Arad 140 Oradea 151 Fagaras 99 RimnicuVilcea 80\\nOradea Zerind 71 Sibiu 151\\nLugoj Timisoara 111 Mehadia 70\\nRimnicuVilcea Sibiu 80 Pitesti 97 Craiova 146\\nMehadia Lugoj 70 Dobreta 75\\nCraiova Dobreta 120 RimnicuVilcea 146 Pitesti 138\\nPitesti RimnicuVilcea 97 Craiova 138 Bucharest 101\\nFagaras Sibiu 99 Bucharest 211\\nDobreta Mehadia 75 Craiova 120\\nBucharest Fagaras 211 Pitesti 101 Giurgiu 90\\nGiurgiu Bucharest 90\\n'"
      ]
     },
     "execution_count": 23,
     "metadata": {},
     "output_type": "execute_result"
    }
   ],
   "source": [
    "\"\"\"\n",
    "Uniform Cost Search Implementation using PriorityQueue\n",
    "\n",
    "Map and input taken from\n",
    "http://www.massey.ac.nz/~mjjohnso/notes/59302/l04.html\n",
    "\n",
    "\"\"\"\n",
    "\n",
    "import queue as Q\n",
    "\n",
    "def search(graph, start, end):\n",
    "    if start not in graph:\n",
    "        raise TypeError(str(start) + ' not found in graph !')\n",
    "        return\n",
    "    if end not in graph:\n",
    "        raise TypeError(str(end) + ' not found in graph !')\n",
    "        return\n",
    "    \n",
    "    queue = Q.PriorityQueue()\n",
    "    queue.put((0, [start]))\n",
    "    \n",
    "    while not queue.empty():\n",
    "        node = queue.get()\n",
    "        current = node[1][len(node[1]) - 1]\n",
    "        \n",
    "        if end in node[1]:\n",
    "            print(\"Path found: \" + str(node[1]) + \", Cost = \" + str(node[0]))\n",
    "            costs_list.append(node[0])\n",
    "            nodes_list.append(len(node[1]))\n",
    "            break\n",
    "        \n",
    "        cost = node[0]\n",
    "        for neighbor in graph[current]:\n",
    "            temp = node[1][:]\n",
    "            temp.append(neighbor)\n",
    "            queue.put((cost + graph[current][neighbor], temp))\n",
    "        \n",
    "def readGraph():\n",
    "    lines = int( input() )\n",
    "    graph = {}\n",
    "    \n",
    "    for line in range(lines):\n",
    "        line = input()\n",
    "            \n",
    "        tokens = line.split()\n",
    "        node = tokens[0]\n",
    "        graph[node] = {}\n",
    "        \n",
    "        for i in range(1, len(tokens) - 1, 2):\n",
    "            # print(node, tokens[i], tokens[i + 1])\n",
    "            # graph.addEdge(node, tokens[i], int(tokens[i + 1]))\n",
    "            graph[node][tokens[i]] = int(tokens[i + 1])\n",
    "    return graph\n",
    "\n",
    "\n",
    "graph = readGraph()\n",
    "\n",
    "search(graph, 'Arad', 'Bucharest')\n",
    "\n",
    "\"\"\"\n",
    "Sample Map Input:\n",
    "\n",
    "14\n",
    "Arad Zerind 75 Timisoara 118 Sibiu 140\n",
    "Zerind Oradea 71 Arad 75\n",
    "Timisoara Arad 118 Lugoj 111\n",
    "Sibiu Arad 140 Oradea 151 Fagaras 99 RimnicuVilcea 80\n",
    "Oradea Zerind 71 Sibiu 151\n",
    "Lugoj Timisoara 111 Mehadia 70\n",
    "RimnicuVilcea Sibiu 80 Pitesti 97 Craiova 146\n",
    "Mehadia Lugoj 70 Dobreta 75\n",
    "Craiova Dobreta 120 RimnicuVilcea 146 Pitesti 138\n",
    "Pitesti RimnicuVilcea 97 Craiova 138 Bucharest 101\n",
    "Fagaras Sibiu 99 Bucharest 211\n",
    "Dobreta Mehadia 75 Craiova 120\n",
    "Bucharest Fagaras 211 Pitesti 101 Giurgiu 90\n",
    "Giurgiu Bucharest 90\n",
    "\"\"\""
   ]
  },
  {
   "cell_type": "code",
   "execution_count": 24,
   "metadata": {},
   "outputs": [
    {
     "data": {
      "text/plain": [
       "[4, 8, 4, 5]"
      ]
     },
     "execution_count": 24,
     "metadata": {},
     "output_type": "execute_result"
    }
   ],
   "source": [
    "nodes_list"
   ]
  },
  {
   "cell_type": "code",
   "execution_count": 25,
   "metadata": {},
   "outputs": [
    {
     "data": {
      "text/plain": [
       "[450, 733, 450, 418]"
      ]
     },
     "execution_count": 25,
     "metadata": {},
     "output_type": "execute_result"
    }
   ],
   "source": [
    "# costs_list[-1]=len(costs_list[-1])\n",
    "costs_list"
   ]
  },
  {
   "cell_type": "code",
   "execution_count": 27,
   "metadata": {},
   "outputs": [
    {
     "name": "stdout",
     "output_type": "stream",
     "text": [
      "ENTER SOURCE : HEURISTIC = 418\n",
      "PATH COST = 418\n",
      "Arad -> Sibiu -> Rimnicu -> Pitesti -> Bucharest\n"
     ]
    }
   ],
   "source": [
    "GRAPH = {\\\n",
    "            'Arad': {'Sibiu': 140, 'Zerind': 75, 'Timisoara': 118},\\\n",
    "            'Zerind': {'Arad': 75, 'Oradea': 71},\\\n",
    "            'Oradea': {'Zerind': 71, 'Sibiu': 151},\\\n",
    "            'Sibiu': {'Arad': 140, 'Oradea': 151, 'Fagaras': 99, 'Rimnicu': 80},\\\n",
    "            'Timisoara': {'Arad': 118, 'Lugoj': 111},\\\n",
    "            'Lugoj': {'Timisoara': 111, 'Mehadia': 70},\\\n",
    "            'Mehadia': {'Lugoj': 70, 'Drobeta': 75},\\\n",
    "            'Drobeta': {'Mehadia': 75, 'Craiova': 120},\\\n",
    "            'Craiova': {'Drobeta': 120, 'Rimnicu': 146, 'Pitesti': 138},\\\n",
    "            'Rimnicu': {'Sibiu': 80, 'Craiova': 146, 'Pitesti': 97},\\\n",
    "            'Fagaras': {'Sibiu': 99, 'Bucharest': 211},\\\n",
    "            'Pitesti': {'Rimnicu': 97, 'Craiova': 138, 'Bucharest': 101},\\\n",
    "            'Bucharest': {'Fagaras': 211, 'Pitesti': 101, 'Giurgiu': 90, 'Urziceni': 85},\\\n",
    "            'Giurgiu': {'Bucharest': 90},\\\n",
    "            'Urziceni': {'Bucharest': 85, 'Vaslui': 142, 'Hirsova': 98},\\\n",
    "            'Hirsova': {'Urziceni': 98, 'Eforie': 86},\\\n",
    "            'Eforie': {'Hirsova': 86},\\\n",
    "            'Vaslui': {'Iasi': 92, 'Urziceni': 142},\\\n",
    "            'Iasi': {'Vaslui': 92, 'Neamt': 87},\\\n",
    "            'Neamt': {'Iasi': 87}\\\n",
    "        }\n",
    "\n",
    "\n",
    "\n",
    "def a_star(source, destination):\n",
    "    \"\"\"Optimal path from source to destination using straight line distance heuristic\n",
    "    :param source: Source city name\n",
    "    :param destination: Destination city name\n",
    "    :returns: Heuristic value, cost and path for optimal traversal\n",
    "    \"\"\"\n",
    "    # HERE THE STRAIGHT LINE DISTANCE VALUES ARE IN REFERENCE TO BUCHAREST AS THE DESTINATION\n",
    "    straight_line = {\\\n",
    "                        'Arad': 366,\\\n",
    "                        'Zerind': 374,\\\n",
    "                        'Oradea': 380,\\\n",
    "                        'Sibiu': 253,\\\n",
    "                        'Timisoara': 329,\\\n",
    "                        'Lugoj': 244,\\\n",
    "                        'Mehadia': 241,\\\n",
    "                        'Drobeta': 242,\\\n",
    "                        'Craiova': 160,\\\n",
    "                        'Rimnicu': 193,\\\n",
    "                        'Fagaras': 176,\\\n",
    "                        'Pitesti': 100,\\\n",
    "                        'Bucharest': 0,\\\n",
    "                        'Giurgiu': 77,\\\n",
    "                        'Urziceni': 80,\\\n",
    "                        'Hirsova': 151,\\\n",
    "                        'Eforie': 161,\\\n",
    "                        'Vaslui': 199,\\\n",
    "                        'Iasi': 226,\\\n",
    "                        'Neamt': 234\\\n",
    "                    }\n",
    "    from queue import PriorityQueue\n",
    "    priority_queue, visited = PriorityQueue(), {}\n",
    "    priority_queue.put((straight_line[source], 0, source, [source]))\n",
    "    visited[source] = straight_line[source]\n",
    "    while not priority_queue.empty():\n",
    "        (heuristic, cost, vertex, path) = priority_queue.get()\n",
    "        if vertex == destination:\n",
    "            return heuristic, cost, path\n",
    "        for next_node in GRAPH[vertex].keys():\n",
    "            current_cost = cost + GRAPH[vertex][next_node]\n",
    "            heuristic = current_cost + straight_line[next_node]\n",
    "            if not next_node in visited or visited[next_node] >= heuristic:\n",
    "                visited[next_node] = heuristic\n",
    "                priority_queue.put((heuristic, current_cost, next_node, path + [next_node]))\n",
    "\n",
    "# def main():\n",
    "\"\"\"Main function\"\"\"\n",
    "print('ENTER SOURCE :', end=' ')\n",
    "source = 'Arad'\n",
    "#     print('ENTER GOAL :', end=' ')\n",
    "goal = 'Bucharest'\n",
    "if source not in GRAPH or goal not in GRAPH:\n",
    "    print('ERROR: CITY DOES NOT EXIST.')\n",
    "else:\n",
    "    heuristic, cost, optimal_path = a_star(source, goal)\n",
    "    print('HEURISTIC =', heuristic)\n",
    "    print('PATH COST =', cost)\n",
    "    print(' -> '.join(optimal_path))\n",
    "costs_list.append(cost)\n",
    "nodes_list.append(len(optimal_path))\n",
    "\n",
    "# if __name__ == '__main__':\n",
    "# main()"
   ]
  },
  {
   "cell_type": "code",
   "execution_count": 28,
   "metadata": {},
   "outputs": [
    {
     "data": {
      "text/plain": [
       "[4, 8, 4, 5, 5]"
      ]
     },
     "execution_count": 28,
     "metadata": {},
     "output_type": "execute_result"
    }
   ],
   "source": [
    "nodes_list"
   ]
  },
  {
   "cell_type": "code",
   "execution_count": 29,
   "metadata": {},
   "outputs": [
    {
     "data": {
      "text/plain": [
       "[450, 733, 450, 418, 418]"
      ]
     },
     "execution_count": 29,
     "metadata": {},
     "output_type": "execute_result"
    }
   ],
   "source": [
    "costs_list"
   ]
  },
  {
   "cell_type": "code",
   "execution_count": 30,
   "metadata": {},
   "outputs": [],
   "source": [
    "import pandas as pd\n"
   ]
  },
  {
   "cell_type": "code",
   "execution_count": 31,
   "metadata": {},
   "outputs": [],
   "source": [
    "df=pd.DataFrame(\n",
    "    {\n",
    "        \"search_algo\":['Depth first search','Breadth first search','Iterative deepening','Uniform cost search','A*'],\n",
    "        \"Travers_node\":nodes_list,\n",
    "        \"total_cost\":costs_list\n",
    "    }\n",
    ")"
   ]
  },
  {
   "cell_type": "code",
   "execution_count": 32,
   "metadata": {},
   "outputs": [
    {
     "data": {
      "text/html": [
       "<div>\n",
       "<style scoped>\n",
       "    .dataframe tbody tr th:only-of-type {\n",
       "        vertical-align: middle;\n",
       "    }\n",
       "\n",
       "    .dataframe tbody tr th {\n",
       "        vertical-align: top;\n",
       "    }\n",
       "\n",
       "    .dataframe thead th {\n",
       "        text-align: right;\n",
       "    }\n",
       "</style>\n",
       "<table border=\"1\" class=\"dataframe\">\n",
       "  <thead>\n",
       "    <tr style=\"text-align: right;\">\n",
       "      <th></th>\n",
       "      <th>search_algo</th>\n",
       "      <th>Travers_node</th>\n",
       "      <th>total_cost</th>\n",
       "    </tr>\n",
       "  </thead>\n",
       "  <tbody>\n",
       "    <tr>\n",
       "      <th>0</th>\n",
       "      <td>Depth first search</td>\n",
       "      <td>4</td>\n",
       "      <td>450</td>\n",
       "    </tr>\n",
       "    <tr>\n",
       "      <th>1</th>\n",
       "      <td>Breadth first search</td>\n",
       "      <td>8</td>\n",
       "      <td>733</td>\n",
       "    </tr>\n",
       "    <tr>\n",
       "      <th>2</th>\n",
       "      <td>Iterative deepening</td>\n",
       "      <td>4</td>\n",
       "      <td>450</td>\n",
       "    </tr>\n",
       "    <tr>\n",
       "      <th>3</th>\n",
       "      <td>Uniform cost search</td>\n",
       "      <td>5</td>\n",
       "      <td>418</td>\n",
       "    </tr>\n",
       "    <tr>\n",
       "      <th>4</th>\n",
       "      <td>A*</td>\n",
       "      <td>5</td>\n",
       "      <td>418</td>\n",
       "    </tr>\n",
       "  </tbody>\n",
       "</table>\n",
       "</div>"
      ],
      "text/plain": [
       "            search_algo  Travers_node  total_cost\n",
       "0    Depth first search             4         450\n",
       "1  Breadth first search             8         733\n",
       "2   Iterative deepening             4         450\n",
       "3   Uniform cost search             5         418\n",
       "4                    A*             5         418"
      ]
     },
     "execution_count": 32,
     "metadata": {},
     "output_type": "execute_result"
    }
   ],
   "source": [
    "df"
   ]
  },
  {
   "cell_type": "code",
   "execution_count": 33,
   "metadata": {},
   "outputs": [],
   "source": [
    "import matplotlib.pyplot as plt"
   ]
  },
  {
   "cell_type": "code",
   "execution_count": 38,
   "metadata": {},
   "outputs": [
    {
     "data": {
      "image/png": "[encoded data removed]",
      "text/plain": [
       "<Figure size 1008x576 with 1 Axes>"
      ]
     },
     "metadata": {
      "needs_background": "light"
     },
     "output_type": "display_data"
    }
   ],
   "source": [
    "plt.figure(figsize=(14,8))\n",
    "plt.bar(df.search_algo,df.Travers_node)\n",
    "plt.title(\"Exploration history size for all initial states\")\n",
    "plt.xlabel(\"search Algorithms\")\n",
    "plt.ylabel(\"Numbers of cities travers\")\n",
    "plt.show()"
   ]
  },
  {
   "cell_type": "code",
   "execution_count": 41,
   "metadata": {},
   "outputs": [
    {
     "data": {
      "image/png": "[encoded data removed]",
      "text/plain": [
       "<Figure size 1008x576 with 1 Axes>"
      ]
     },
     "metadata": {
      "needs_background": "light"
     },
     "output_type": "display_data"
    }
   ],
   "source": [
    "plt.figure(figsize=(14,8))\n",
    "plt.bar(df.search_algo,df.total_cost)\n",
    "plt.title(\"Solution length for all initial states\")\n",
    "plt.xlabel(\"search Algorithms\")\n",
    "plt.ylabel(\"cost\")\n",
    "plt.show()"
   ]
  },
  {
   "cell_type": "code",
   "execution_count": 42,
   "metadata": {},
   "outputs": [
    {
     "data": {
      "image/png": "[encoded data removed]",
      "text/plain": [
       "<Figure size 1008x576 with 1 Axes>"
      ]
     },
     "metadata": {
      "needs_background": "light"
     },
     "output_type": "display_data"
    }
   ],
   "source": [
    "plt.figure(figsize=(14,8))\n",
    "plt.bar(df.search_algo,[7,6,4,8,10])\n",
    "plt.title(\"Maximal frontier sizes for all initial states\")\n",
    "plt.xlabel(\"search Algorithms\")\n",
    "plt.ylabel(\"Maximal frontier sizes\")\n",
    "plt.show()"
   ]
  },
  {
   "cell_type": "code",
   "execution_count": null,
   "metadata": {},
   "outputs": [],
   "source": []
  }
 ],
 "metadata": {
  "kernelspec": {
   "display_name": "Python 3 (ipykernel)",
   "language": "python",
   "name": "python3"
  },
  "language_info": {
   "codemirror_mode": {
    "name": "ipython",
    "version": 3
   },
   "file_extension": ".py",
   "mimetype": "text/x-python",
   "name": "python",
   "nbconvert_exporter": "python",
   "pygments_lexer": "ipython3",
   "version": "3.8.10"
  }
 },
 "nbformat": 4,
 "nbformat_minor": 4
}
